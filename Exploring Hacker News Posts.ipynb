{
 "cells": [
  {
   "cell_type": "markdown",
   "id": "8b026034-e86b-4c63-addf-7e972217aa52",
   "metadata": {},
   "source": [
    "# Exploring Hacker News Posts\n",
    "# Đâu là các để tăng tương tác cho bài viết trên trang Hacker News\n",
    "## Mục tiêu dự án: \n",
    "> * Trong dự án này, chúng ta sẽ khám phá dữ liệu trang Hacker News, giai đoạn 2015 - 2016, có thể tải tại [đây](https://dq-content.s3.amazonaws.com/356/hacker_news.csv)\n",
    "> * Bộ dữ liệu này bao gồm các thông tin về những bài viết được đăng trên trang Hacker News, gồm các thuộc tính như Id, tiêu đề ( title ), Url, điểm số ( num_points ), số lượng bình luận ( num_comments ), tác giả  ( author ), thời gian đăng bài ( created_at )\n",
    "> * Chúng ta sẽ đặc biệt chú ý đến các title dạng Ask HN : ..., show HN : ... và trả lời câu hỏi trong hai dạng tiêu đề này, <b> đâu là dạng tiêu đề nhận  nhiều sự chú ý hơn , Thời gian cụ thể nào mà đăng bài nhận được nhiều chú ý hơn </b>\n",
    "\n",
    "Liên quan đến các vấn đề thu hút người xem thì lượng bình luận (num_comments) là yếu tố cần phải phân tích trọng tâm"
   ]
  },
  {
   "cell_type": "code",
   "execution_count": 1,
   "id": "ec96c30b-5ca2-4c0d-b16d-474b5ca2105a",
   "metadata": {},
   "outputs": [],
   "source": [
    "import csv\n",
    "with open(\"hacker_news.csv\") as opened_file:  # Đọc file hacker_news.csv\n",
    "    file = list(csv.reader(opened_file, delimiter = \",\"))"
   ]
  },
  {
   "cell_type": "code",
   "execution_count": 2,
   "id": "3ee74fd5-8e67-4261-ac0e-29cbc9d7eb92",
   "metadata": {},
   "outputs": [
    {
     "name": "stdout",
     "output_type": "stream",
     "text": [
      "['id', 'title', 'url', 'num_points', 'num_comments', 'author', 'created_at']\n",
      "['12224879', 'Interactive Dynamic Video', 'http://www.interactivedynamicvideo.com/', '386', '52', 'ne0phyte', '8/4/2016 11:52']\n",
      "['10975351', 'How to Use Open Source and Shut the Fuck Up at the Same Time', 'http://hueniverse.com/2016/01/26/how-to-use-open-source-and-shut-the-fuck-up-at-the-same-time/', '39', '10', 'josep2', '1/26/2016 19:30']\n",
      "['11964716', \"Florida DJs May Face Felony for April Fools' Water Joke\", 'http://www.thewire.com/entertainment/2013/04/florida-djs-april-fools-water-joke/63798/', '2', '1', 'vezycash', '6/23/2016 22:20']\n",
      "['11919867', 'Technology ventures: From Idea to Enterprise', 'https://www.amazon.com/Technology-Ventures-Enterprise-Thomas-Byers/dp/0073523429', '3', '1', 'hswarna', '6/17/2016 0:01']\n"
     ]
    }
   ],
   "source": [
    "for row in file[:5] : # in 5 hàng đầu tiên của danh sách\n",
    "    print(row)"
   ]
  },
  {
   "cell_type": "markdown",
   "id": "d11fd1f8-a0dd-491a-87be-d4ed61c79c98",
   "metadata": {},
   "source": [
    "# Làm sạch dữ liệu"
   ]
  },
  {
   "cell_type": "markdown",
   "id": "c29d8d72-eaf6-4b8e-b7dc-1b73b8072b7b",
   "metadata": {},
   "source": [
    "## 1. Xóa bỏ trùng lặp, header"
   ]
  },
  {
   "cell_type": "code",
   "execution_count": 9,
   "id": "d174fb60-e09d-4469-ace8-89ed283665cf",
   "metadata": {},
   "outputs": [],
   "source": [
    "HN = list()\n",
    "hn = list()\n",
    "for i in file[1:]: \n",
    "    if i[0] not in HN:\n",
    "        HN.append(i[0])\n",
    "        hn.append(i)"
   ]
  },
  {
   "cell_type": "code",
   "execution_count": 10,
   "id": "ef385af1-04ce-4056-b999-f638df4d79c0",
   "metadata": {},
   "outputs": [
    {
     "name": "stdout",
     "output_type": "stream",
     "text": [
      "20100\n",
      "20101\n"
     ]
    }
   ],
   "source": [
    "# So sánh số phần tử ở cả hai \n",
    "print(len(hn))\n",
    "print(len(file)) "
   ]
  },
  {
   "cell_type": "markdown",
   "id": "fba0f217-e1aa-411e-8171-f42c8506b645",
   "metadata": {},
   "source": [
    "#### Như vậy không có trùng lặp ở trong danh sách các bài post trên Hacker News"
   ]
  },
  {
   "cell_type": "markdown",
   "id": "1e4c1c13-75e5-44d5-b496-54bb21124fa2",
   "metadata": {},
   "source": [
    "## 2. Lọc ra các bài viết có title dạng Ask HN, Show HN\n",
    "Mục tiêu: Lọc ra các bài viết có title Ask HN, show HN vào từng list khác nhau"
   ]
  },
  {
   "cell_type": "code",
   "execution_count": 14,
   "id": "b5aa19b0-e122-4cc1-a3e3-900f1f480da5",
   "metadata": {},
   "outputs": [],
   "source": [
    "ask_hn = list()\n",
    "show_hn = list()\n",
    "other_hn = list()\n",
    "\n",
    "for row in hn:   # Duyệt qua từng bản ghi trong hn\n",
    "    title = row[1].lower()   # đưa title về dạng in thường để không bị bỏ sót các bài viết viết hoa khác nhau nhưng biểu thị cùng ý tưởng\n",
    "    if title.startswith(\"ask hn\"): # dùng method startswith() để lọc ra các bài post có tài title bắt đầu bằng ask hn hoặc show hn\n",
    "        ask_hn.append(row)\n",
    "        \n",
    "    elif title.startswith(\"show hn\"):\n",
    "        show_hn.append(row)\n",
    "        \n",
    "    else:\n",
    "        other_hn.append(row)"
   ]
  },
  {
   "cell_type": "code",
   "execution_count": 17,
   "id": "2f2fd656-4067-4a22-b69e-4298b8d718d1",
   "metadata": {},
   "outputs": [
    {
     "name": "stdout",
     "output_type": "stream",
     "text": [
      "1744\n",
      "1162\n",
      "17194\n",
      "20100\n"
     ]
    }
   ],
   "source": [
    "print(len(ask_hn))\n",
    "print(len(show_hn))\n",
    "print(len(other_hn))\n",
    "print(len(ask_hn) + len(show_hn) + len(other_hn))"
   ]
  },
  {
   "cell_type": "markdown",
   "id": "330a6c02-238b-426d-a532-1f790b361ada",
   "metadata": {},
   "source": [
    "# Phân tích\n",
    "### Trong hai thể loại title ask hn... và show hn ..., đâu là thể loại thu hút người dùng tương tác hơn ?"
   ]
  },
  {
   "cell_type": "code",
   "execution_count": 27,
   "id": "12b3f2f6-52aa-4ae0-aeb6-8a6d8ee6b363",
   "metadata": {},
   "outputs": [],
   "source": [
    "# Tính trung bình số comment trong các bài viết ask hn, show hn\n",
    "total_cmt_ask_hn = 0  \n",
    "total_cmt_show_hn = 0\n",
    "\n",
    "for row in ask_hn:\n",
    "    row[4] = int(row[4])\n",
    "    total_cmt_ask_hn += row[4]  # Tính tổng số comment\n",
    "for row in show_hn:\n",
    "    row[4] = int(row[4])\n",
    "    total_cmt_show_hn += row[4]\n",
    "\n",
    "# Tính số comment trung bình\n",
    "avg_ask_hn = total_cmt_ask_hn / len(ask_hn)    # Tính trung bình lượng comment trên 1 bài viết ask-hn\n",
    "avg_show_hn = total_cmt_show_hn / len(show_hn)   # Tính trung bình lượng comment trên 1 bài viết show-hn"
   ]
  },
  {
   "cell_type": "code",
   "execution_count": 25,
   "id": "0914644e-b7d6-4740-8f7f-59db4ce49e77",
   "metadata": {},
   "outputs": [
    {
     "name": "stdout",
     "output_type": "stream",
     "text": [
      "14.038417431192661\n",
      "10.31669535283993\n",
      "1.36\n"
     ]
    }
   ],
   "source": [
    "print(avg_ask_hn)\n",
    "print(avg_show_hn)\n",
    "print(round(avg_ask_hn/avg_show_hn, 2))"
   ]
  },
  {
   "cell_type": "markdown",
   "id": "04a2f6eb-c507-46ed-9572-5986291070d8",
   "metadata": {},
   "source": [
    "> * #### Như vậy lượng bình luận trung bình mỗi bài viết có title Ask HN: ... nhiều hơn bài viết có title Show HN khoảng 36%\n",
    "> * #### Dường như các title Ask HN thu hút người đọc comment để trả lời các câu hỏi, giải thích, trình bày quan điểm cá nhân hơn là các bài viết Show HN mang tính chất cung cấp thông tin và biểu đạt câu chuyện"
   ]
  },
  {
   "cell_type": "markdown",
   "id": "fb0d2fb5-be51-497a-a097-09e75e29f265",
   "metadata": {},
   "source": [
    "## Đâu là thời điểm đăng bài để các bài viết ask HN thu hút nhiều lượng tương tác nhất ??"
   ]
  },
  {
   "cell_type": "code",
   "execution_count": 30,
   "id": "96c81797-b028-406a-9e20-9edb92972131",
   "metadata": {},
   "outputs": [],
   "source": [
    "import datetime as dt    # Sử dụng module datetime để làm việc với thời gian\n",
    "comment_list = list()\n",
    "for row in ask_hn:\n",
    "    time = dt.datetime.strptime(row[6], \"%m/%d/%Y %H:%M\")\n",
    "    hour = time.hour\n",
    "    new_list = [hour, row[4]] # Tạo list của list trong có mỗi list con gồm 2 phần: Lượng comment của bài thứ i, giờ đăng bài của bài thứ i\n",
    "    comment_list.append(new_list)\n",
    "\n",
    "# Tạo hai dictionary\n",
    "counts_by_hour = dict()  # Lưu thông tin số bài viết ở trong mỗi giờ\n",
    "comment_by_hour = dict()   # Lưu thông tin tổng số comment trong các bài viết ở giờ đó\n",
    "for ele in comment_list:\n",
    "    if ele[0] not in counts_by_hour:   # Nếu chưa có giờ đó trong từ điển\n",
    "        counts_by_hour[ele[0]] = 1       # Thiết lập giá trị ban đầu\n",
    "        comment_by_hour[ele[0]] = ele[1]\n",
    "    else:        # Nếu tồn tịa giờ đó trong từ điển\n",
    "        counts_by_hour[ele[0]] += 1   # Cập nhật giá trị\n",
    "        comment_by_hour[ele[0]] += ele[1]"
   ]
  },
  {
   "cell_type": "code",
   "execution_count": 31,
   "id": "785743ce-7de1-45b2-bd48-4b0c728f2f76",
   "metadata": {},
   "outputs": [
    {
     "name": "stdout",
     "output_type": "stream",
     "text": [
      "{9: 45, 13: 85, 10: 59, 14: 107, 16: 108, 23: 68, 12: 73, 17: 100, 15: 116, 21: 109, 20: 80, 2: 58, 18: 109, 3: 54, 5: 46, 19: 110, 1: 60, 22: 71, 8: 48, 4: 47, 0: 55, 6: 44, 7: 34, 11: 58}\n",
      "{9: 251, 13: 1253, 10: 793, 14: 1416, 16: 1814, 23: 543, 12: 687, 17: 1146, 15: 4477, 21: 1745, 20: 1722, 2: 1381, 18: 1439, 3: 421, 5: 464, 19: 1188, 1: 683, 22: 479, 8: 492, 4: 337, 0: 447, 6: 397, 7: 267, 11: 641}\n"
     ]
    }
   ],
   "source": [
    "print(counts_by_hour)\n",
    "print(comment_by_hour)"
   ]
  },
  {
   "cell_type": "markdown",
   "id": "86c2d968-d237-4705-9f45-2c333a3a48b8",
   "metadata": {},
   "source": [
    "### Tính lượng comment trung bình mỗi giờ"
   ]
  },
  {
   "cell_type": "code",
   "execution_count": 35,
   "id": "5b6b4798-3f2d-4645-b069-838a2c831ce4",
   "metadata": {},
   "outputs": [
    {
     "name": "stdout",
     "output_type": "stream",
     "text": [
      "9 : 5.58 \n",
      "13 : 14.74 \n",
      "10 : 13.44 \n",
      "14 : 13.23 \n",
      "16 : 16.8 \n",
      "23 : 7.99 \n",
      "12 : 9.41 \n",
      "17 : 11.46 \n",
      "15 : 38.59 \n",
      "21 : 16.01 \n",
      "20 : 21.52 \n",
      "2 : 23.81 \n",
      "18 : 13.2 \n",
      "3 : 7.8 \n",
      "5 : 10.09 \n",
      "19 : 10.8 \n",
      "1 : 11.38 \n",
      "22 : 6.75 \n",
      "8 : 10.25 \n",
      "4 : 7.17 \n",
      "0 : 8.13 \n",
      "6 : 9.02 \n",
      "7 : 7.85 \n",
      "11 : 11.05 \n"
     ]
    }
   ],
   "source": [
    "avg_cmt_hour = dict()\n",
    "for key, value in counts_by_hour.items():\n",
    "    comment_total = comment_by_hour[key]\n",
    "    avg = comment_total / value\n",
    "    avg_cmt_hour[key] = round(avg, 2)\n",
    "for key, value in avg_cmt_hour.items():\n",
    "    print(f\"{key} : {value} \")"
   ]
  },
  {
   "cell_type": "code",
   "execution_count": 43,
   "id": "1117ca73-6504-41f3-8767-88c64640efd5",
   "metadata": {},
   "outputs": [
    {
     "name": "stdout",
     "output_type": "stream",
     "text": [
      "15 : 38.59 \n",
      "2 : 23.81 \n",
      "20 : 21.52 \n",
      "16 : 16.8 \n",
      "21 : 16.01 \n",
      "13 : 14.74 \n",
      "10 : 13.44 \n",
      "14 : 13.23 \n",
      "18 : 13.2 \n",
      "17 : 11.46 \n",
      "1 : 11.38 \n",
      "11 : 11.05 \n",
      "19 : 10.8 \n",
      "8 : 10.25 \n",
      "5 : 10.09 \n",
      "12 : 9.41 \n",
      "6 : 9.02 \n",
      "0 : 8.13 \n",
      "23 : 7.99 \n",
      "7 : 7.85 \n",
      "3 : 7.8 \n",
      "4 : 7.17 \n",
      "22 : 6.75 \n",
      "9 : 5.58 \n"
     ]
    }
   ],
   "source": [
    "sorted_avg_cmt_hour = sorted(avg_cmt_hour.items(), reverse = True , key=lambda kv: (kv[1], kv[0]))\n",
    "for ele in sorted_avg_cmt_hour:\n",
    "    print(f\"{ele[0]} : {ele[1]} \")"
   ]
  },
  {
   "cell_type": "code",
   "execution_count": 48,
   "id": "46439c47-4380-4827-80c3-10dd0d88a0ab",
   "metadata": {},
   "outputs": [
    {
     "name": "stdout",
     "output_type": "stream",
     "text": [
      "Top 5 hours which has the most average comments : \n",
      "15:00:00 has the average number of comments is 38.59 \n",
      "02:00:00 has the average number of comments is 23.81 \n",
      "20:00:00 has the average number of comments is 21.52 \n",
      "16:00:00 has the average number of comments is 16.8 \n",
      "21:00:00 has the average number of comments is 16.01 \n"
     ]
    }
   ],
   "source": [
    "print(\"Top 5 hours which has the most average comments : \")\n",
    "for ele in sorted_avg_cmt_hour[:5]:\n",
    "    hour = dt.time(ele[0])\n",
    "    print(f\"{hour} has the average number of comments is {ele[1]} \") "
   ]
  },
  {
   "cell_type": "markdown",
   "id": "deefe017-0053-4559-b636-53515fc7b482",
   "metadata": {},
   "source": [
    "#### Vì các thông tin của thời gian được tính theo múi giờ EST là GMT -5 , mà Việt Nam ở múi giờ GMT +7, do đó thời gian khi chuyển đổi sang Việt Nam là: "
   ]
  },
  {
   "cell_type": "code",
   "execution_count": 55,
   "id": "afa03052-7d4a-4af6-a4a9-ecddded3f587",
   "metadata": {},
   "outputs": [
    {
     "name": "stdout",
     "output_type": "stream",
     "text": [
      "Top 5 hours which has the most average comments : \n",
      "03:00:00 has the average number of comments is 38.59 \n",
      "14:00:00 has the average number of comments is 23.81 \n",
      "08:00:00 has the average number of comments is 21.52 \n",
      "04:00:00 has the average number of comments is 16.8 \n",
      "09:00:00 has the average number of comments is 16.01 \n"
     ]
    }
   ],
   "source": [
    "print(\"Top 5 hours which has the most average comments : \")\n",
    "for ele in sorted_avg_cmt_hour[:5]:\n",
    "    hour = dt.datetime(year =1999,month = 1, day = 1 , hour = ele[0]) + dt.timedelta(hours = 12)\n",
    "    hour = hour.time()\n",
    "    print(f\"{hour} has the average number of comments is {ele[1]} \") "
   ]
  },
  {
   "cell_type": "markdown",
   "id": "48827b2b-bfc6-413a-8e9a-9bc7957ffba9",
   "metadata": {},
   "source": [
    " #### Dựa vào kết quả trên, có thể thấy rằng với múi giờ miền Đông Mỹ ( EST, GMT -5) thì thời gian tốt nhất để đăng bài là thời điểm từ 15:00 đến 2:00 hôm sau, đây là khoảng thời gian rảnh rỗi của đa số nhân viên văn phòng, người lao động"
   ]
  },
  {
   "cell_type": "code",
   "execution_count": null,
   "id": "67185061-89fa-4f19-b3d0-54624c119abd",
   "metadata": {},
   "outputs": [],
   "source": []
  }
 ],
 "metadata": {
  "kernelspec": {
   "display_name": "Python 3 (ipykernel)",
   "language": "python",
   "name": "python3"
  },
  "language_info": {
   "codemirror_mode": {
    "name": "ipython",
    "version": 3
   },
   "file_extension": ".py",
   "mimetype": "text/x-python",
   "name": "python",
   "nbconvert_exporter": "python",
   "pygments_lexer": "ipython3",
   "version": "3.12.4"
  }
 },
 "nbformat": 4,
 "nbformat_minor": 5
}
